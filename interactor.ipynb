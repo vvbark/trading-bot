{
 "cells": [
  {
   "metadata": {
    "ExecuteTime": {
     "end_time": "2025-07-12T12:59:56.851040Z",
     "start_time": "2025-07-12T12:59:56.844145Z"
    }
   },
   "cell_type": "code",
   "source": [
    "from datetime import timedelta\n",
    "\n",
    "def daterange(start_date, end_date):\n",
    "    current = start_date\n",
    "    while current < end_date:\n",
    "        yield current\n",
    "        current = current + timedelta(days=1)\n"
   ],
   "id": "cc38efd3a9240eab",
   "outputs": [],
   "execution_count": 1
  },
  {
   "metadata": {},
   "cell_type": "markdown",
   "source": "### Download",
   "id": "b74c787db0ea1937"
  },
  {
   "metadata": {
    "collapsed": true,
    "ExecuteTime": {
     "end_time": "2025-07-12T12:52:58.550623Z",
     "start_time": "2025-07-12T12:52:58.076395Z"
    }
   },
   "cell_type": "code",
   "source": [
    "\n",
    "from src.training.extractors.vision_binance_extractor import VisionBinanceExtractor\n",
    "\n",
    "from src.training.extractors.config import DataExtractionConfig"
   ],
   "id": "initial_id",
   "outputs": [],
   "execution_count": 4
  },
  {
   "metadata": {
    "ExecuteTime": {
     "end_time": "2025-07-12T12:46:29.907107Z",
     "start_time": "2025-07-12T12:46:21.463465Z"
    }
   },
   "cell_type": "code",
   "source": [
    "csv_filenames = []\n",
    "\n",
    "binance_downloader = VisionBinanceExtractor(\n",
    "    currency=DataExtractionConfig.CURRENCY,\n",
    "    timestamp=DataExtractionConfig.TIMESTAMP,\n",
    ")\n",
    "\n",
    "for curr_date in daterange(DataExtractionConfig.START_DATE, DataExtractionConfig.END_DATE):\n",
    "    print(curr_date)\n",
    "    binance_downloader.download_file(report_date=curr_date)\n",
    "    csv_filenames.append(\n",
    "        binance_downloader.unzip_file(report_date=curr_date),\n",
    "    )"
   ],
   "id": "3aab8fa974b04d39",
   "outputs": [
    {
     "name": "stdout",
     "output_type": "stream",
     "text": [
      "2025-07-01 00:00:00\n",
      "2025-07-02 00:00:00\n",
      "2025-07-03 00:00:00\n",
      "2025-07-04 00:00:00\n",
      "2025-07-05 00:00:00\n",
      "2025-07-06 00:00:00\n",
      "2025-07-07 00:00:00\n",
      "2025-07-08 00:00:00\n",
      "2025-07-09 00:00:00\n"
     ]
    }
   ],
   "execution_count": 3
  },
  {
   "metadata": {
    "ExecuteTime": {
     "end_time": "2025-07-12T12:46:29.920511Z",
     "start_time": "2025-07-12T12:46:29.912278Z"
    }
   },
   "cell_type": "code",
   "source": "csv_filenames",
   "id": "54002ea9fdc4b523",
   "outputs": [
    {
     "data": {
      "text/plain": [
       "['data\\\\spot\\\\daily\\\\klines\\\\BTCUSDT\\\\3m\\\\BTCUSDT-3m-2025-07-01.csv',\n",
       " 'data\\\\spot\\\\daily\\\\klines\\\\BTCUSDT\\\\3m\\\\BTCUSDT-3m-2025-07-02.csv',\n",
       " 'data\\\\spot\\\\daily\\\\klines\\\\BTCUSDT\\\\3m\\\\BTCUSDT-3m-2025-07-03.csv',\n",
       " 'data\\\\spot\\\\daily\\\\klines\\\\BTCUSDT\\\\3m\\\\BTCUSDT-3m-2025-07-04.csv',\n",
       " 'data\\\\spot\\\\daily\\\\klines\\\\BTCUSDT\\\\3m\\\\BTCUSDT-3m-2025-07-05.csv',\n",
       " 'data\\\\spot\\\\daily\\\\klines\\\\BTCUSDT\\\\3m\\\\BTCUSDT-3m-2025-07-06.csv',\n",
       " 'data\\\\spot\\\\daily\\\\klines\\\\BTCUSDT\\\\3m\\\\BTCUSDT-3m-2025-07-07.csv',\n",
       " 'data\\\\spot\\\\daily\\\\klines\\\\BTCUSDT\\\\3m\\\\BTCUSDT-3m-2025-07-08.csv',\n",
       " 'data\\\\spot\\\\daily\\\\klines\\\\BTCUSDT\\\\3m\\\\BTCUSDT-3m-2025-07-09.csv']"
      ]
     },
     "execution_count": 4,
     "metadata": {},
     "output_type": "execute_result"
    }
   ],
   "execution_count": 4
  },
  {
   "metadata": {},
   "cell_type": "markdown",
   "source": "### CreatePosition",
   "id": "bcf1f8d0962c40b1"
  },
  {
   "metadata": {},
   "cell_type": "markdown",
   "source": "#### Read data\n",
   "id": "3de0d8c7b8c676eb"
  },
  {
   "metadata": {
    "ExecuteTime": {
     "end_time": "2025-07-12T12:59:59.215687Z",
     "start_time": "2025-07-12T12:59:58.694225Z"
    }
   },
   "cell_type": "code",
   "source": [
    "from src.training.extractors.klines_preparer import KLinesStockHistoryExtractor\n",
    "from src.training.extractors.config import DataExtractionConfig"
   ],
   "id": "ab0a95912470384e",
   "outputs": [],
   "execution_count": 2
  },
  {
   "metadata": {
    "ExecuteTime": {
     "end_time": "2025-07-12T12:59:59.284063Z",
     "start_time": "2025-07-12T12:59:59.248539Z"
    }
   },
   "cell_type": "code",
   "source": [
    "from src.stock_history.klines import KLinesStockHistory\n",
    "\n",
    "\n",
    "history_extractor = KLinesStockHistoryExtractor(\n",
    "    currency=DataExtractionConfig.CURRENCY,\n",
    "    timestamp=DataExtractionConfig.TIMESTAMP,\n",
    ")\n",
    "\n",
    "klines_window = KLinesStockHistory()\n",
    "\n",
    "for curr_date in daterange(DataExtractionConfig.START_DATE_READ, DataExtractionConfig.END_DATE_READ):\n",
    "    print(curr_date)\n",
    "    klines_window = klines_window.concat(\n",
    "        stock_history=history_extractor.extract_history(curr_date),\n",
    "    )"
   ],
   "id": "13120c1d9909b02d",
   "outputs": [
    {
     "name": "stdout",
     "output_type": "stream",
     "text": [
      "2025-07-02 00:00:00\n",
      "2025-07-03 00:00:00\n",
      "2025-07-04 00:00:00\n",
      "2025-07-05 00:00:00\n",
      "2025-07-06 00:00:00\n",
      "2025-07-07 00:00:00\n",
      "2025-07-08 00:00:00\n"
     ]
    }
   ],
   "execution_count": 3
  },
  {
   "metadata": {
    "ExecuteTime": {
     "end_time": "2025-07-12T13:46:57.782295Z",
     "start_time": "2025-07-12T13:46:57.776477Z"
    }
   },
   "cell_type": "code",
   "source": "klines_window.get_window()['open_time']",
   "id": "578fc5742377e39",
   "outputs": [
    {
     "data": {
      "text/plain": [
       "0      1751414400000000\n",
       "1      1751414580000000\n",
       "2      1751414760000000\n",
       "3      1751414940000000\n",
       "4      1751415120000000\n",
       "             ...       \n",
       "475    1752018300000000\n",
       "476    1752018480000000\n",
       "477    1752018660000000\n",
       "478    1752018840000000\n",
       "479    1752019020000000\n",
       "Name: open_time, Length: 3360, dtype: int64"
      ]
     },
     "execution_count": 14,
     "metadata": {},
     "output_type": "execute_result"
    }
   ],
   "execution_count": 14
  },
  {
   "metadata": {
    "ExecuteTime": {
     "end_time": "2025-07-12T13:50:51.741200Z",
     "start_time": "2025-07-12T13:50:51.733365Z"
    }
   },
   "cell_type": "code",
   "source": [
    "import pandas as pd\n",
    "\n",
    "pd.to_datetime(klines_window.get_window()['close_time'], unit='us')\n"
   ],
   "id": "6e79f1f36f41419",
   "outputs": [
    {
     "data": {
      "text/plain": [
       "0     2025-07-02 00:02:59.999999\n",
       "1     2025-07-02 00:05:59.999999\n",
       "2     2025-07-02 00:08:59.999999\n",
       "3     2025-07-02 00:11:59.999999\n",
       "4     2025-07-02 00:14:59.999999\n",
       "                 ...            \n",
       "475   2025-07-08 23:47:59.999999\n",
       "476   2025-07-08 23:50:59.999999\n",
       "477   2025-07-08 23:53:59.999999\n",
       "478   2025-07-08 23:56:59.999999\n",
       "479   2025-07-08 23:59:59.999999\n",
       "Name: close_time, Length: 3360, dtype: datetime64[ns]"
      ]
     },
     "execution_count": 16,
     "metadata": {},
     "output_type": "execute_result"
    }
   ],
   "execution_count": 16
  },
  {
   "metadata": {},
   "cell_type": "code",
   "outputs": [],
   "execution_count": null,
   "source": "",
   "id": "324be348945993f8"
  },
  {
   "metadata": {},
   "cell_type": "code",
   "outputs": [],
   "execution_count": null,
   "source": "",
   "id": "60ef470c56dadf20"
  },
  {
   "metadata": {},
   "cell_type": "code",
   "outputs": [],
   "execution_count": null,
   "source": "",
   "id": "a5aa9a14166cddd8"
  },
  {
   "metadata": {},
   "cell_type": "code",
   "outputs": [],
   "execution_count": null,
   "source": "",
   "id": "79c97fc210924376"
  },
  {
   "metadata": {},
   "cell_type": "code",
   "source": "",
   "id": "e421bb3f6ec0639f",
   "outputs": [],
   "execution_count": null
  },
  {
   "metadata": {},
   "cell_type": "code",
   "outputs": [],
   "execution_count": null,
   "source": "",
   "id": "1821371490ae18c6"
  },
  {
   "metadata": {},
   "cell_type": "code",
   "outputs": [],
   "execution_count": null,
   "source": "",
   "id": "6eb9a45bd1c6409a"
  },
  {
   "metadata": {},
   "cell_type": "code",
   "outputs": [],
   "execution_count": null,
   "source": "",
   "id": "c73c6f80f5b6f6b9"
  }
 ],
 "metadata": {
  "kernelspec": {
   "display_name": "Python 3",
   "language": "python",
   "name": "python3"
  },
  "language_info": {
   "codemirror_mode": {
    "name": "ipython",
    "version": 2
   },
   "file_extension": ".py",
   "mimetype": "text/x-python",
   "name": "python",
   "nbconvert_exporter": "python",
   "pygments_lexer": "ipython2",
   "version": "2.7.6"
  }
 },
 "nbformat": 4,
 "nbformat_minor": 5
}
