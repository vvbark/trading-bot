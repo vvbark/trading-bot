{
 "cells": [
  {
   "metadata": {
    "ExecuteTime": {
     "end_time": "2025-07-13T08:35:16.287922Z",
     "start_time": "2025-07-13T08:35:16.279039Z"
    }
   },
   "cell_type": "code",
   "source": [
    "from datetime import timedelta, datetime\n",
    "\n",
    "from matplotlib import pyplot as plt\n",
    "\n",
    "from src.stock_history.klines import KLinesStockHistory\n",
    "from src.training.extractors.config import DataExtractionConfig\n",
    "from src.training.extractors.klines_preparer import KLinesStockHistoryExtractor\n",
    "from src.training.extractors.vision_binance_extractor import VisionBinanceExtractor\n",
    "from src.training.position.short_position import ShortPositionFabric, ShortPositionParameters\n",
    "\n",
    "\n",
    "def daterange(start_date, end_date):\n",
    "    current = start_date\n",
    "    while current < end_date:\n",
    "        yield current\n",
    "        current = current + timedelta(days=1)\n"
   ],
   "id": "cc38efd3a9240eab",
   "outputs": [],
   "execution_count": 35
  },
  {
   "metadata": {},
   "cell_type": "markdown",
   "source": "### Download",
   "id": "b74c787db0ea1937"
  },
  {
   "metadata": {
    "ExecuteTime": {
     "end_time": "2025-07-12T19:37:05.287939Z",
     "start_time": "2025-07-12T19:36:53.535298Z"
    }
   },
   "cell_type": "code",
   "source": [
    "csv_filenames = []\n",
    "\n",
    "binance_downloader = VisionBinanceExtractor(\n",
    "    currency=DataExtractionConfig.CURRENCY,\n",
    "    timestamp=DataExtractionConfig.TIMESTAMP,\n",
    ")\n",
    "\n",
    "for curr_date in daterange(DataExtractionConfig.START_DATE, DataExtractionConfig.END_DATE):\n",
    "    print(curr_date)\n",
    "    binance_downloader.download_file(report_date=curr_date)\n",
    "    csv_filenames.append(\n",
    "        binance_downloader.unzip_file(report_date=curr_date),\n",
    "    )\n"
   ],
   "id": "3aab8fa974b04d39",
   "outputs": [
    {
     "name": "stdout",
     "output_type": "stream",
     "text": [
      "2025-07-01 00:00:00\n",
      "2025-07-02 00:00:00\n",
      "2025-07-03 00:00:00\n",
      "2025-07-04 00:00:00\n",
      "2025-07-05 00:00:00\n",
      "2025-07-06 00:00:00\n",
      "2025-07-07 00:00:00\n",
      "2025-07-08 00:00:00\n",
      "2025-07-09 00:00:00\n"
     ]
    }
   ],
   "execution_count": 3
  },
  {
   "metadata": {
    "ExecuteTime": {
     "end_time": "2025-07-12T19:37:05.326300Z",
     "start_time": "2025-07-12T19:37:05.319797Z"
    }
   },
   "cell_type": "code",
   "source": "csv_filenames",
   "id": "54002ea9fdc4b523",
   "outputs": [
    {
     "data": {
      "text/plain": [
       "['data\\\\spot\\\\daily\\\\klines\\\\BTCUSDT\\\\1m\\\\BTCUSDT-1m-2025-07-01.csv',\n",
       " 'data\\\\spot\\\\daily\\\\klines\\\\BTCUSDT\\\\1m\\\\BTCUSDT-1m-2025-07-02.csv',\n",
       " 'data\\\\spot\\\\daily\\\\klines\\\\BTCUSDT\\\\1m\\\\BTCUSDT-1m-2025-07-03.csv',\n",
       " 'data\\\\spot\\\\daily\\\\klines\\\\BTCUSDT\\\\1m\\\\BTCUSDT-1m-2025-07-04.csv',\n",
       " 'data\\\\spot\\\\daily\\\\klines\\\\BTCUSDT\\\\1m\\\\BTCUSDT-1m-2025-07-05.csv',\n",
       " 'data\\\\spot\\\\daily\\\\klines\\\\BTCUSDT\\\\1m\\\\BTCUSDT-1m-2025-07-06.csv',\n",
       " 'data\\\\spot\\\\daily\\\\klines\\\\BTCUSDT\\\\1m\\\\BTCUSDT-1m-2025-07-07.csv',\n",
       " 'data\\\\spot\\\\daily\\\\klines\\\\BTCUSDT\\\\1m\\\\BTCUSDT-1m-2025-07-08.csv',\n",
       " 'data\\\\spot\\\\daily\\\\klines\\\\BTCUSDT\\\\1m\\\\BTCUSDT-1m-2025-07-09.csv']"
      ]
     },
     "execution_count": 4,
     "metadata": {},
     "output_type": "execute_result"
    }
   ],
   "execution_count": 4
  },
  {
   "metadata": {},
   "cell_type": "markdown",
   "source": "### CreatePosition",
   "id": "bcf1f8d0962c40b1"
  },
  {
   "metadata": {},
   "cell_type": "markdown",
   "source": "#### Read data\n",
   "id": "3de0d8c7b8c676eb"
  },
  {
   "metadata": {
    "ExecuteTime": {
     "end_time": "2025-07-13T08:31:49.569633Z",
     "start_time": "2025-07-13T08:31:49.478756Z"
    }
   },
   "cell_type": "code",
   "source": [
    "history_extractor = KLinesStockHistoryExtractor(\n",
    "    currency=DataExtractionConfig.CURRENCY,\n",
    "    timestamp=DataExtractionConfig.TIMESTAMP,\n",
    ")\n",
    "\n",
    "klines_window = KLinesStockHistory()\n",
    "\n",
    "for curr_date in daterange(DataExtractionConfig.START_DATE_READ, DataExtractionConfig.END_DATE_READ):\n",
    "    print(curr_date)\n",
    "    klines_window = klines_window.concat(\n",
    "        stock_history=history_extractor.extract_history(curr_date),\n",
    "    )\n"
   ],
   "id": "13120c1d9909b02d",
   "outputs": [
    {
     "name": "stdout",
     "output_type": "stream",
     "text": [
      "2025-07-02 00:00:00\n",
      "2025-07-03 00:00:00\n",
      "2025-07-04 00:00:00\n",
      "2025-07-05 00:00:00\n",
      "2025-07-06 00:00:00\n",
      "2025-07-07 00:00:00\n",
      "2025-07-08 00:00:00\n"
     ]
    }
   ],
   "execution_count": 2
  },
  {
   "metadata": {},
   "cell_type": "markdown",
   "source": "#### Create Short Position",
   "id": "425f3f0f779f22d4"
  },
  {
   "metadata": {
    "ExecuteTime": {
     "end_time": "2025-07-13T08:34:49.428190Z",
     "start_time": "2025-07-13T08:34:49.402633Z"
    }
   },
   "cell_type": "code",
   "source": [
    "parameters = ShortPositionParameters(\n",
    "    leverage = 10,\n",
    "    quote_qty = 200,  # QUOTE CURRENCY (USDT)\n",
    "    max_duration = timedelta(days=1, hours=0),\n",
    "    stop_loss = 10,  # QUOTE CURRENCY (USDT)\n",
    "    take_profit = 10,  # QUOTE CURRENCY (USDT)\n",
    ")\n",
    "\n",
    "short_position_fabric = ShortPositionFabric(\n",
    "    short_position_parameters=parameters,\n",
    "    klines_history=klines_window,\n",
    ")\n",
    "\n",
    "short_position = short_position_fabric.open(\n",
    "    start_datetime=datetime(year=2025, month=7, day=3, hour=8, minute=0),\n",
    ")\n",
    "\n",
    "short_position.estimate()\n",
    "print(short_position.get_result())\n"
   ],
   "id": "17a8c283e4e4c1ef",
   "outputs": [
    {
     "name": "stdout",
     "output_type": "stream",
     "text": [
      "ShortPositionResult(pnl=np.float64(-10.95182710278683), duration=Timedelta('0 days 01:23:59.999999'))\n"
     ]
    }
   ],
   "execution_count": 30
  },
  {
   "metadata": {
    "ExecuteTime": {
     "end_time": "2025-07-13T08:36:33.513943Z",
     "start_time": "2025-07-13T08:36:33.366533Z"
    }
   },
   "cell_type": "code",
   "source": [
    "ax = plt.plot(\n",
    "    short_position.get_close_datetime_logging(),\n",
    "    short_position.get_pnl_logging(),\n",
    "    marker='.',\n",
    ")\n",
    "\n",
    "plt.grid(True)\n",
    "plt.tick_params(axis='x', rotation=90)"
   ],
   "id": "6969e04f2df26954",
   "outputs": [
    {
     "data": {
      "text/plain": [
       "<Figure size 640x480 with 1 Axes>"
      ],
      "image/png": "[encoded data removed]"
     },
     "metadata": {},
     "output_type": "display_data"
    }
   ],
   "execution_count": 47
  },
  {
   "metadata": {},
   "cell_type": "code",
   "outputs": [],
   "execution_count": null,
   "source": "",
   "id": "b2424f7a09442c20"
  },
  {
   "metadata": {},
   "cell_type": "markdown",
   "source": "#### Generate samples",
   "id": "c8268163f1c8c4a3"
  },
  {
   "metadata": {},
   "cell_type": "code",
   "outputs": [],
   "execution_count": null,
   "source": "",
   "id": "bcb932443f5ff749"
  },
  {
   "metadata": {},
   "cell_type": "code",
   "outputs": [],
   "execution_count": null,
   "source": "",
   "id": "79c97fc210924376"
  },
  {
   "metadata": {},
   "cell_type": "code",
   "source": "",
   "id": "e421bb3f6ec0639f",
   "outputs": [],
   "execution_count": null
  },
  {
   "metadata": {},
   "cell_type": "code",
   "outputs": [],
   "execution_count": null,
   "source": "",
   "id": "1821371490ae18c6"
  },
  {
   "metadata": {},
   "cell_type": "code",
   "outputs": [],
   "execution_count": null,
   "source": "",
   "id": "6eb9a45bd1c6409a"
  },
  {
   "metadata": {},
   "cell_type": "code",
   "outputs": [],
   "execution_count": null,
   "source": "",
   "id": "c73c6f80f5b6f6b9"
  }
 ],
 "metadata": {
  "kernelspec": {
   "display_name": "Python 3",
   "language": "python",
   "name": "python3"
  },
  "language_info": {
   "codemirror_mode": {
    "name": "ipython",
    "version": 2
   },
   "file_extension": ".py",
   "mimetype": "text/x-python",
   "name": "python",
   "nbconvert_exporter": "python",
   "pygments_lexer": "ipython2",
   "version": "2.7.6"
  }
 },
 "nbformat": 4,
 "nbformat_minor": 5
}
